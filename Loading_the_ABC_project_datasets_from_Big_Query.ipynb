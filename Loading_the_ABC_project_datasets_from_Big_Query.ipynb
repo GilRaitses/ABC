{
  "nbformat": 4,
  "nbformat_minor": 0,
  "metadata": {
    "colab": {
      "provenance": [],
      "authorship_tag": "ABX9TyN26j4JdNk3/IQ7YyGOctOE",
      "include_colab_link": true
    },
    "kernelspec": {
      "name": "ir",
      "display_name": "R"
    },
    "language_info": {
      "name": "R"
    }
  },
  "cells": [
    {
      "cell_type": "markdown",
      "metadata": {
        "id": "view-in-github",
        "colab_type": "text"
      },
      "source": [
        "<a href=\"https://colab.research.google.com/github/GilRaitses/ABC/blob/main/Loading_the_ABC_project_datasets_from_Big_Query.ipynb\" target=\"_parent\"><img src=\"https://colab.research.google.com/assets/colab-badge.svg\" alt=\"Open In Colab\"/></a>"
      ]
    },
    {
      "cell_type": "code",
      "execution_count": 28,
      "metadata": {
        "colab": {
          "base_uri": "https://localhost:8080/",
          "height": 754
        },
        "id": "h7uMo_5k4Y8o",
        "outputId": "a25034f0-a085-46c4-9602-27e96f530b9d"
      },
      "outputs": [
        {
          "output_type": "stream",
          "name": "stderr",
          "text": [
            "Installing package into ‘/usr/local/lib/R/site-library’\n",
            "(as ‘lib’ is unspecified)\n",
            "\n",
            "system (cmd0): /usr/lib/R/bin/R CMD INSTALL\n",
            "\n",
            "foundpkgs: bigrquery, /tmp/RtmpRfgKjS/downloaded_packages/bigrquery_1.5.1.tar.gz\n",
            "\n",
            "files: /tmp/RtmpRfgKjS/downloaded_packages/bigrquery_1.5.1.tar.gz\n",
            "\n"
          ]
        },
        {
          "output_type": "stream",
          "name": "stdout",
          "text": [
            "* installing *source* package ‘bigrquery’ ...\n",
            "** package ‘bigrquery’ successfully unpacked and MD5 sums checked\n",
            "** using staged installation\n",
            "** libs\n",
            "using C compiler: ‘gcc (Ubuntu 11.4.0-1ubuntu1~22.04) 11.4.0’\n",
            "using C++ compiler: ‘g++ (Ubuntu 11.4.0-1ubuntu1~22.04) 11.4.0’\n",
            "g++ -std=gnu++17 -I\"/usr/share/R/include\" -DNDEBUG  -I'/usr/lib/R/site-library/cli/include' -I'/usr/lib/R/site-library/cpp11/include' -I'/usr/local/lib/R/site-library/rapidjsonr/include'     -fpic  -g -O2 -ffile-prefix-map=/build/r-base-H8urij/r-base-4.4.0=. -fstack-protector-strong -Wformat -Werror=format-security -Wdate-time -D_FORTIFY_SOURCE=2   -c BqField.cpp -o BqField.o\n",
            "gcc -I\"/usr/share/R/include\" -DNDEBUG  -I'/usr/lib/R/site-library/cli/include' -I'/usr/lib/R/site-library/cpp11/include' -I'/usr/local/lib/R/site-library/rapidjsonr/include'     -fpic  -g -O2 -ffile-prefix-map=/build/r-base-H8urij/r-base-4.4.0=. -fstack-protector-strong -Wformat -Werror=format-security -Wdate-time -D_FORTIFY_SOURCE=2  -c base64.c -o base64.o\n",
            "g++ -std=gnu++17 -I\"/usr/share/R/include\" -DNDEBUG  -I'/usr/lib/R/site-library/cli/include' -I'/usr/lib/R/site-library/cpp11/include' -I'/usr/local/lib/R/site-library/rapidjsonr/include'     -fpic  -g -O2 -ffile-prefix-map=/build/r-base-H8urij/r-base-4.4.0=. -fstack-protector-strong -Wformat -Werror=format-security -Wdate-time -D_FORTIFY_SOURCE=2   -c cpp11.cpp -o cpp11.o\n",
            "g++ -std=gnu++17 -shared -L/usr/lib/R/lib -Wl,-Bsymbolic-functions -flto=auto -ffat-lto-objects -flto=auto -Wl,-z,relro -o bigrquery.so BqField.o base64.o cpp11.o -L/usr/lib/R/lib -lR\n",
            "installing to /usr/local/lib/R/site-library/00LOCK-bigrquery/00new/bigrquery/libs\n",
            "** R\n",
            "** inst\n",
            "** byte-compile and prepare package for lazy loading\n",
            "** help\n",
            "*** installing help indices\n",
            "*** copying figures\n",
            "** building package indices\n",
            "** testing if installed package can be loaded from temporary location\n",
            "** checking absolute paths in shared objects and dynamic libraries\n",
            "** testing if installed package can be loaded from final location\n",
            "** testing if installed package keeps a record of temporary installation path\n",
            "* DONE (bigrquery)\n"
          ]
        },
        {
          "output_type": "stream",
          "name": "stderr",
          "text": [
            "1): succeeded '/usr/lib/R/bin/R CMD INSTALL -l '/usr/local/lib/R/site-library' '/tmp/RtmpRfgKjS/downloaded_packages/bigrquery_1.5.1.tar.gz''\n",
            "\n"
          ]
        },
        {
          "output_type": "error",
          "ename": "ERROR",
          "evalue": "Error in install.packages(): no packages were specified\n",
          "traceback": [
            "Error in install.packages(): no packages were specified\nTraceback:\n",
            "1. install.packages()",
            "2. stop(\"no packages were specified\")"
          ]
        }
      ],
      "source": [
        "#this first line prevents the installation of packages from getting stuck\n",
        "system(\"sudo apt install libudunits2-dev\")\n",
        "#these two packages are neccessary to access the datasets\n",
        "install.packages(\"bigrquery\", verbose=T, keep_outputs=T)\n",
        "install.packages(\"dplyr\", verbose=T, keep_outputs=T))\n"
      ]
    },
    {
      "cell_type": "code",
      "source": [
        "#an authorization token will be required to complete this proces and when it's given it must be immediatley pasted here to\n",
        "#when the token pasted here it might say there is an error, but just ignore it and run the cell again\n",
        "library(bigrquery)\n",
        "library(DBI)\n",
        "con <- dbConnect(\n",
        "  bigquery(),\n",
        "  project = \"automatedbehaviorclassifier\",\n",
        "  dataset = \"whaleTag\",\n",
        "  billing = \"automatedbehaviorclassifier\"\n",
        ")"
      ],
      "metadata": {
        "colab": {
          "base_uri": "https://localhost:8080/",
          "height": 34
        },
        "id": "2b1J9Tq7CSW3",
        "outputId": "496db9e3-3247-4827-b48c-ed28f333008c"
      },
      "execution_count": 26,
      "outputs": [
        {
          "output_type": "display_data",
          "data": {
            "text/html": [
              "<style>\n",
              ".list-inline {list-style: none; margin:0; padding: 0}\n",
              ".list-inline>li {display: inline-block}\n",
              ".list-inline>li:not(:last-child)::after {content: \"\\00b7\"; padding: 0 .5ex}\n",
              "</style>\n",
              "<ol class=list-inline><li>'bp23_206f'</li><li>'event_key_mn09_203a'</li><li>'event_key_mn09_203c'</li><li>'log_bp23_206f'</li><li>'log_mn09_203a'</li><li>'log_mn09_203c'</li><li>'mn09_203a'</li><li>'mn09_203c'</li></ol>\n"
            ],
            "text/markdown": "1. 'bp23_206f'\n2. 'event_key_mn09_203a'\n3. 'event_key_mn09_203c'\n4. 'log_bp23_206f'\n5. 'log_mn09_203a'\n6. 'log_mn09_203c'\n7. 'mn09_203a'\n8. 'mn09_203c'\n\n\n",
            "text/latex": "\\begin{enumerate*}\n\\item 'bp23\\_206f'\n\\item 'event\\_key\\_mn09\\_203a'\n\\item 'event\\_key\\_mn09\\_203c'\n\\item 'log\\_bp23\\_206f'\n\\item 'log\\_mn09\\_203a'\n\\item 'log\\_mn09\\_203c'\n\\item 'mn09\\_203a'\n\\item 'mn09\\_203c'\n\\end{enumerate*}\n",
            "text/plain": [
              "[1] \"bp23_206f\"           \"event_key_mn09_203a\" \"event_key_mn09_203c\"\n",
              "[4] \"log_bp23_206f\"       \"log_mn09_203a\"       \"log_mn09_203c\"      \n",
              "[7] \"mn09_203a\"           \"mn09_203c\"          "
            ]
          },
          "metadata": {}
        }
      ]
    },
    {
      "cell_type": "code",
      "source": [
        "#list out the tables for the BigQuery project\n",
        "dbListTables(con)"
      ],
      "metadata": {
        "id": "hQiy_b9pFIpz"
      },
      "execution_count": null,
      "outputs": []
    },
    {
      "cell_type": "code",
      "source": [
        "#the \"dplyr\" package is needed for the next step\n",
        "library(dplyr)"
      ],
      "metadata": {
        "colab": {
          "base_uri": "https://localhost:8080/"
        },
        "id": "80Y9wYVUFKJg",
        "outputId": "a9f7af40-2dfb-4ea7-840a-9772474c7950"
      },
      "execution_count": 29,
      "outputs": [
        {
          "output_type": "stream",
          "name": "stderr",
          "text": [
            "\n",
            "Attaching package: ‘dplyr’\n",
            "\n",
            "\n",
            "The following objects are masked from ‘package:stats’:\n",
            "\n",
            "    filter, lag\n",
            "\n",
            "\n",
            "The following objects are masked from ‘package:base’:\n",
            "\n",
            "    intersect, setdiff, setequal, union\n",
            "\n",
            "\n"
          ]
        }
      ]
    },
    {
      "cell_type": "code",
      "source": [
        "#'bp23_206f' and 'log_bp23_206f' belong to a Fin Whale\n",
        "\n",
        "finWhale <- tbl(con, \"bp23_206f\")\n",
        "logFinWhale <- tbl(con, \"log_bp23_206f\")"
      ],
      "metadata": {
        "id": "ilRDUoEkGBvh"
      },
      "execution_count": 40,
      "outputs": []
    },
    {
      "cell_type": "code",
      "source": [
        "#'mn09_203c' 'log_mn09_203c''event_key_mn09_203c' belong to a Humpback Whale named Jabiru\n",
        "\n",
        "jaibiru <- tbl(con, \"mn09_203c\")\n",
        "logJaibiru <- tbl(con,\"log_mn09_203c\")\n",
        "eventKeyJaibiru <- tbl(con, \"event_key_mn09_203c\")"
      ],
      "metadata": {
        "id": "LPBuuoFsGLk0"
      },
      "execution_count": 39,
      "outputs": []
    },
    {
      "cell_type": "code",
      "source": [
        "#'mn09_203a' 'log_mn09_203a''event_key_mn09_203a' belong to a Humpback Whale named Lavalier's Calf\n",
        "\n",
        "lavCalf <- tbl(con, \"mn09_203a\")\n",
        "logLavCalf <- tbl(con,\"log_mn09_203a\")\n",
        "eventkeyLavCalf <- tbl(con, \"event_key_mn09_203a\")"
      ],
      "metadata": {
        "id": "iKQuSV4rH6xK"
      },
      "execution_count": 42,
      "outputs": []
    },
    {
      "cell_type": "code",
      "source": [
        "#animal tags' \"tagtools\" package and all of it's dependdencies that will be used, there are a lot, it might take a few minutes\n",
        "install.packages(\"tagtools\")"
      ],
      "metadata": {
        "colab": {
          "base_uri": "https://localhost:8080/"
        },
        "id": "HD5soGtPJTuz",
        "outputId": "6d612630-450b-48ca-8959-1011d3cfc06f"
      },
      "execution_count": 41,
      "outputs": [
        {
          "output_type": "stream",
          "name": "stderr",
          "text": [
            "Installing package into ‘/usr/local/lib/R/site-library’\n",
            "(as ‘lib’ is unspecified)\n",
            "\n",
            "also installing the dependencies ‘later’, ‘Rcpp’, ‘htmlwidgets’, ‘lazyeval’, ‘crosstalk’, ‘promises’, ‘CircStats’, ‘latex2exp’, ‘matlab’, ‘ncdf4’, ‘plotly’, ‘pracma’, ‘signal’, ‘zoo’, ‘zoom’\n",
            "\n",
            "\n"
          ]
        }
      ]
    },
    {
      "cell_type": "code",
      "source": [
        "#If you use the base R str() command to examine skeds’ structure, you’ll see a list, not a data frame:\n",
        "str(lavCalf)\n",
        "#each time the function is called, 2 lists are returned. The first is the \"Formal Class\" list. The second is the \"lazy_query\" list.\n",
        "str(logLavCalf)\n",
        "str(eventkeyLavCalf)\n",
        "\n",
        "#Running glimpse(skeds) will return mostly what you expect — except it doesn’t know how many rows are in the data.\n",
        "glimpse(lavCalf)\n",
        "glimpse(logLavCalf)\n",
        "glimpse(eventkeyLavCalf)\n",
        "\n",
        "#"
      ],
      "metadata": {
        "colab": {
          "base_uri": "https://localhost:8080/"
        },
        "id": "jAulInkOKkb0",
        "outputId": "54a2d1f0-341a-4487-b943-5c57039c4a12"
      },
      "execution_count": 44,
      "outputs": [
        {
          "output_type": "stream",
          "name": "stdout",
          "text": [
            "List of 2\n",
            " $ src       :List of 2\n",
            "  ..$ con  :Formal class 'BigQueryConnection' [package \"bigrquery\"] with 7 slots\n",
            "  .. .. ..@ project       : chr \"automatedbehaviorclassifier\"\n",
            "  .. .. ..@ dataset       : chr \"whaleTag\"\n",
            "  .. .. ..@ billing       : chr \"automatedbehaviorclassifier\"\n",
            "  .. .. ..@ use_legacy_sql: logi FALSE\n",
            "  .. .. ..@ page_size     : int 10000\n",
            "  .. .. ..@ quiet         : logi NA\n",
            "  .. .. ..@ bigint        : chr \"integer\"\n",
            "  ..$ disco: NULL\n",
            "  ..- attr(*, \"class\")= chr [1:4] \"src_BigQueryConnection\" \"src_dbi\" \"src_sql\" \"src\"\n",
            " $ lazy_query:List of 6\n",
            "  ..$ x         : dbplyr__ [1:1] `mn09_203a`\n",
            "  ..$ vars      : chr [1:19] \"s\" \"fs\" \"p\" \"tempr\" ...\n",
            "  ..$ group_vars: chr(0) \n",
            "  ..$ order_vars: NULL\n",
            "  ..$ frame     : NULL\n",
            "  ..$ is_view   : logi FALSE\n",
            "  ..- attr(*, \"class\")= chr [1:3] \"lazy_base_remote_query\" \"lazy_base_query\" \"lazy_query\"\n",
            " - attr(*, \"class\")= chr [1:5] \"tbl_BigQueryConnection\" \"tbl_dbi\" \"tbl_sql\" \"tbl_lazy\" ...\n",
            "List of 2\n",
            " $ src       :List of 2\n",
            "  ..$ con  :Formal class 'BigQueryConnection' [package \"bigrquery\"] with 7 slots\n",
            "  .. .. ..@ project       : chr \"automatedbehaviorclassifier\"\n",
            "  .. .. ..@ dataset       : chr \"whaleTag\"\n",
            "  .. .. ..@ billing       : chr \"automatedbehaviorclassifier\"\n",
            "  .. .. ..@ use_legacy_sql: logi FALSE\n",
            "  .. .. ..@ page_size     : int 10000\n",
            "  .. .. ..@ quiet         : logi NA\n",
            "  .. .. ..@ bigint        : chr \"integer\"\n",
            "  ..$ disco: NULL\n",
            "  ..- attr(*, \"class\")= chr [1:4] \"src_BigQueryConnection\" \"src_dbi\" \"src_sql\" \"src\"\n",
            " $ lazy_query:List of 6\n",
            "  ..$ x         : dbplyr__ [1:1] `log_mn09_203a`\n",
            "  ..$ vars      : chr [1:8] \"whaleID\" \"whaleName\" \"sampleHz\" \"eventStart\" ...\n",
            "  ..$ group_vars: chr(0) \n",
            "  ..$ order_vars: NULL\n",
            "  ..$ frame     : NULL\n",
            "  ..$ is_view   : logi FALSE\n",
            "  ..- attr(*, \"class\")= chr [1:3] \"lazy_base_remote_query\" \"lazy_base_query\" \"lazy_query\"\n",
            " - attr(*, \"class\")= chr [1:5] \"tbl_BigQueryConnection\" \"tbl_dbi\" \"tbl_sql\" \"tbl_lazy\" ...\n",
            "List of 2\n",
            " $ src       :List of 2\n",
            "  ..$ con  :Formal class 'BigQueryConnection' [package \"bigrquery\"] with 7 slots\n",
            "  .. .. ..@ project       : chr \"automatedbehaviorclassifier\"\n",
            "  .. .. ..@ dataset       : chr \"whaleTag\"\n",
            "  .. .. ..@ billing       : chr \"automatedbehaviorclassifier\"\n",
            "  .. .. ..@ use_legacy_sql: logi FALSE\n",
            "  .. .. ..@ page_size     : int 10000\n",
            "  .. .. ..@ quiet         : logi NA\n",
            "  .. .. ..@ bigint        : chr \"integer\"\n",
            "  ..$ disco: NULL\n",
            "  ..- attr(*, \"class\")= chr [1:4] \"src_BigQueryConnection\" \"src_dbi\" \"src_sql\" \"src\"\n",
            " $ lazy_query:List of 6\n",
            "  ..$ x         : dbplyr__ [1:1] `event_key_mn09_203a`\n",
            "  ..$ vars      : chr [1:2] \"string_field_0\" \"string_field_1\"\n",
            "  ..$ group_vars: chr(0) \n",
            "  ..$ order_vars: NULL\n",
            "  ..$ frame     : NULL\n",
            "  ..$ is_view   : logi FALSE\n",
            "  ..- attr(*, \"class\")= chr [1:3] \"lazy_base_remote_query\" \"lazy_base_query\" \"lazy_query\"\n",
            " - attr(*, \"class\")= chr [1:5] \"tbl_BigQueryConnection\" \"tbl_dbi\" \"tbl_sql\" \"tbl_lazy\" ...\n",
            "Rows: ??\n",
            "Columns: 19\n",
            "Database: BigQueryConnection\n",
            "$ s     \u001b[3m\u001b[90m<int>\u001b[39m\u001b[23m 58947, 29402, 19649, 68255, 29060, 79763, 76422, 69924, 32776, 6…\n",
            "$ fs    \u001b[3m\u001b[90m<int>\u001b[39m\u001b[23m 5, 5, 5, 5, 5, 5, 5, 5, 5, 5, 5, 5, 5, 5, 5, 5, 5, 5, 5, 5, 5, 5…\n",
            "$ p     \u001b[3m\u001b[90m<dbl>\u001b[39m\u001b[23m 1.57960222, 0.30383040, 17.60898335, 18.60632043, 12.77403014, 1…\n",
            "$ tempr \u001b[3m\u001b[90m<dbl>\u001b[39m\u001b[23m 10.26736, 15.85189, 11.48451, 11.80820, 16.41059, 13.60197, 12.3…\n",
            "$ M_1   \u001b[3m\u001b[90m<dbl>\u001b[39m\u001b[23m 33.6879588, 9.9201283, -0.2089067, 18.8050368, 9.4067788, 51.711…\n",
            "$ M_2   \u001b[3m\u001b[90m<dbl>\u001b[39m\u001b[23m -36.188286, -52.481826, -20.390941, -46.764761, -45.621029, -10.…\n",
            "$ M_3   \u001b[3m\u001b[90m<dbl>\u001b[39m\u001b[23m 20.767244, 1.084521, 49.451754, -18.474148, -26.151019, -8.64540…\n",
            "$ A_1   \u001b[3m\u001b[90m<dbl>\u001b[39m\u001b[23m -0.7769515, -0.4977123, 0.3778705, -0.6672181, -0.4957731, -0.81…\n",
            "$ A_2   \u001b[3m\u001b[90m<dbl>\u001b[39m\u001b[23m 0.616471785, 0.850785788, 0.460215690, 0.673162585, 0.803917535,…\n",
            "$ A_3   \u001b[3m\u001b[90m<dbl>\u001b[39m\u001b[23m -0.018570713, 0.145060196, -0.819951748, 0.348114296, 0.35788253…\n",
            "$ Aw_1  \u001b[3m\u001b[90m<dbl>\u001b[39m\u001b[23m -0.13589060, 0.05105403, 0.44225554, 0.04307881, 0.05226184, -0.…\n",
            "$ Aw_2  \u001b[3m\u001b[90m<dbl>\u001b[39m\u001b[23m 0.19598831, 0.08204654, 0.91036545, -0.14523111, -0.13601279, 0.…\n",
            "$ Aw_3  \u001b[3m\u001b[90m<dbl>\u001b[39m\u001b[23m 0.96289062, 0.99159384, 0.05049998, 0.99828029, 0.99946160, 0.96…\n",
            "$ Mw_1  \u001b[3m\u001b[90m<dbl>\u001b[39m\u001b[23m 2.832076, -19.235813, -3.264054, -21.629178, -19.494015, 27.9391…\n",
            "$ Mw_2  \u001b[3m\u001b[90m<dbl>\u001b[39m\u001b[23m -30.237087, -14.604170, -52.984737, 5.162806, 13.495444, 4.40289…\n",
            "$ Mw_3  \u001b[3m\u001b[90m<dbl>\u001b[39m\u001b[23m -44.197817, -47.651117, -6.578268, -48.860930, -47.869593, -45.4…\n",
            "$ pitch \u001b[3m\u001b[90m<dbl>\u001b[39m\u001b[23m -0.13742055, 0.05126654, 0.45161971, 0.04267755, 0.05176614, -0.…\n",
            "$ roll  \u001b[3m\u001b[90m<dbl>\u001b[39m\u001b[23m 0.20079863, 0.08255403, 1.51538091, -0.14446778, -0.13525519, 0.…\n",
            "$ head  \u001b[3m\u001b[90m<dbl>\u001b[39m\u001b[23m 1.4967133, 2.3135712, -0.4388245, 2.7814545, -3.0152906, -0.6015…\n",
            "Rows: ??\n",
            "Columns: 8\n",
            "Database: BigQueryConnection\n",
            "$ whaleID    \u001b[3m\u001b[90m<chr>\u001b[39m\u001b[23m \"mn09_203a\", \"mn09_203a\", \"mn09_203a\", \"mn09_203a\", \"mn09_2…\n",
            "$ whaleName  \u001b[3m\u001b[90m<chr>\u001b[39m\u001b[23m \"lavaliers_Calf \", \"lavaliers_Calf \", \"lavaliers_Calf \", \"l…\n",
            "$ sampleHz   \u001b[3m\u001b[90m<int>\u001b[39m\u001b[23m 5, 5, 5, 5, 5, 5, 5, 5, 5, 5, 5, 5, 5, 5, 5, 5, 5, 5, 5, 5,…\n",
            "$ eventStart \u001b[3m\u001b[90m<int>\u001b[39m\u001b[23m 19546, 8161, 15801, 1976, 2105, 2391, 3678, 3971, 2571, 521…\n",
            "$ eventEnd   \u001b[3m\u001b[90m<int>\u001b[39m\u001b[23m 19546, 8220, 16070, 2860, 2390, 2570, 3970, 4240, 3100, 549…\n",
            "$ state      \u001b[3m\u001b[90m<chr>\u001b[39m\u001b[23m \"End\", \"Feeding\", \"Feeding\", \"Feeding\", \"Feeding\", \"Feeding…\n",
            "$ event      \u001b[3m\u001b[90m<chr>\u001b[39m\u001b[23m \"End\", \"Type 7\", \"Type 7\", \"Type 7\", \"Type 7\", \"Type 7\", \"T…\n",
            "$ note       \u001b[3m\u001b[90m<chr>\u001b[39m\u001b[23m \"End \", \"Side roll\", \"Side roll\", \"Side roll \", \"Side roll …\n",
            "Rows: ??\n",
            "Columns: 2\n",
            "Database: BigQueryConnection\n",
            "$ string_field_0 \u001b[3m\u001b[90m<chr>\u001b[39m\u001b[23m \"eventType\", \"Type 1\", \"Type 2\", \"Type 3\", \"Type 4\", \"T…\n",
            "$ string_field_1 \u001b[3m\u001b[90m<chr>\u001b[39m\u001b[23m \"eventDesc\", \"Kick feeding\", \"Bubble feeding \", \"Lunge …\n"
          ]
        }
      ]
    }
  ]
}